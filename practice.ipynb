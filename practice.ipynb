{
 "cells": [
  {
   "cell_type": "code",
   "execution_count": 2,
   "id": "4b7a5308-445b-4e47-8260-44ef15d336ce",
   "metadata": {},
   "outputs": [
    {
     "data": {
      "text/html": [
       "19994"
      ],
      "text/latex": [
       "19994"
      ],
      "text/markdown": [
       "19994"
      ],
      "text/plain": [
       "[1] 19994"
      ]
     },
     "metadata": {},
     "output_type": "display_data"
    }
   ],
   "source": [
    "3 + 7 - 7 - 9 + 50 * 400"
   ]
  },
  {
   "cell_type": "code",
   "execution_count": null,
   "id": "5503bb02-063a-4322-b1d8-f0c5983f880c",
   "metadata": {},
   "outputs": [],
   "source": []
  }
 ],
 "metadata": {
  "kernelspec": {
   "display_name": "R",
   "language": "R",
   "name": "ir"
  },
  "language_info": {
   "codemirror_mode": "r",
   "file_extension": ".r",
   "mimetype": "text/x-r-source",
   "name": "R",
   "pygments_lexer": "r",
   "version": "4.3.3"
  }
 },
 "nbformat": 4,
 "nbformat_minor": 5
}
